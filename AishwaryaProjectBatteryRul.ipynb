{
  "cells": [
    {
      "cell_type": "code",
      "execution_count": 1,
      "id": "f47e398a-6460-4876-8b57-5d77cbadd586",
      "metadata": {
        "id": "f47e398a-6460-4876-8b57-5d77cbadd586"
      },
      "outputs": [],
      "source": [
        "import numpy as np\n",
        "import pandas as pd\n",
        "from sklearn.model_selection import train_test_split\n",
        "from sklearn.preprocessing import StandardScaler\n",
        "# ML models - KNN and Random Forest\n",
        "from sklearn.neighbors import KNeighborsClassifier\n",
        "from sklearn.ensemble import RandomForestClassifier\n",
        "from sklearn.metrics import (\n",
        "    accuracy_score,\n",
        "    confusion_matrix,\n",
        "    mean_squared_error, r2_score\n",
        ")\n",
        "import matplotlib.pyplot as plt\n",
        "import seaborn as sns"
      ]
    },
    {
      "cell_type": "code",
      "execution_count": 2,
      "id": "fcbeacf2-4e35-4f60-93c6-2ffe1e964082",
      "metadata": {
        "id": "fcbeacf2-4e35-4f60-93c6-2ffe1e964082"
      },
      "outputs": [],
      "source": [
        "# load and PreProcess the data of Battery RUL\n",
        "# function implement -for loadandpreprocess fromCSV file\n",
        "def loaddata(filepath):\n",
        "    try:\n",
        "        df = pd.read_csv(filepath)\n",
        "        print(f\"Data loaded from file Successfully.\")\n",
        "        print(f\"Shape of the data:\", df.shape)\n",
        "        print(f\"Columns:\", list(df.columns))\n",
        "        print(f\"Data Information:\\n\", df.info())\n",
        "        df.drop(['Discharge Time (s)', 'Decrement 3.6-3.4V (s)', 'Time at 4.15V (s)', 'Time constant current (s)'], axis =1 , inplace = True)\n",
        "        #check for Null or missing values\n",
        "        print(f\"MissingValues:\\n\", df.isnull().sum())\n",
        "        #statistics Summary - using DEscribe function\n",
        "        print(f\"Statistics Information from File:\\n\", df.describe())\n",
        "        corr = df.corr()\n",
        "        # Feature matrix\n",
        "        X = df.iloc[:, :-1]\n",
        "        # target variable is last column- RUL\n",
        "        y = df.iloc[:,-1]\n",
        "        return X, y, corr\n",
        "    except Exception as e:\n",
        "        print(f\"Error loading data from file: {e}\")\n",
        "        return None, None"
      ]
    },
    {
      "cell_type": "code",
      "execution_count": 3,
      "id": "93021363-8f23-4e42-b85e-8321f0b4990b",
      "metadata": {
        "id": "93021363-8f23-4e42-b85e-8321f0b4990b"
      },
      "outputs": [],
      "source": [
        "# Function Preprocess the features and target variable fetch from load data above function\n",
        "def processfeaturetargetdata(X, y):\n",
        "    X = pd.get_dummies(X)\n",
        "    scalar = StandardScaler()\n",
        "    X_scaled = scalar.fit_transform(X)\n",
        "    return X_scaled, y"
      ]
    },
    {
      "cell_type": "code",
      "execution_count": 4,
      "id": "ede74f54-5c43-42ec-ae34-8125ed75aaa0",
      "metadata": {
        "id": "ede74f54-5c43-42ec-ae34-8125ed75aaa0"
      },
      "outputs": [],
      "source": [
        "# Function to split the data into train and test\n",
        "def splitdata(X, y, test_size=0.2, random_state=42):\n",
        "    X_train, X_test, y_train, y_test = train_test_split(X, y, test_size=test_size, random_state=random_state)\n",
        "    print(f\"Training Set of Data:\\n\", X_train.shape)\n",
        "    print(f\"Test Set of Data:\\n\", X_test.shape)\n",
        "    return X_train, X_test, y_train, y_test"
      ]
    },
    {
      "cell_type": "code",
      "execution_count": 5,
      "id": "671cfab9-c7b8-4b1d-b61d-76035d6f8a23",
      "metadata": {
        "id": "671cfab9-c7b8-4b1d-b61d-76035d6f8a23"
      },
      "outputs": [],
      "source": [
        "# Train the model using machine learning model such as KNN and random Forest\n",
        "def trainmodelML(X_train, y_train, modelType):\n",
        "    if modelType == 'knn':\n",
        "        model = KNeighborsClassifier(n_neighbors = 59)\n",
        "    elif modelType == 'randomForest':\n",
        "        model = RandomForestClassifier()\n",
        "    else:\n",
        "        raise ValueError(\"Please check the modelType\")\n",
        "    model.fit(X_train, y_train)\n",
        "    return model"
      ]
    },
    {
      "cell_type": "code",
      "execution_count": 6,
      "id": "24bd77ae-9764-4a94-bab2-360f529e2053",
      "metadata": {
        "id": "24bd77ae-9764-4a94-bab2-360f529e2053"
      },
      "outputs": [],
      "source": [
        "# model performance metrics used to evaluate the ML model\n",
        "def evaluate_model(model, X_test, y_test):\n",
        "    y_pred = model.predict(X_test)\n",
        "\n",
        "    accuracy = accuracy_score(y_test, y_pred)\n",
        "    conf_matrix = confusion_matrix(y_test, y_pred)\n",
        "    mse = mean_squared_error(y_test, y_pred)\n",
        "    r2 = r2_score(y_test, y_pred)\n",
        "\n",
        "    print(\"\\nModel Evaluation:\")\n",
        "    print(f\"Accuracy: {accuracy:.4f}\")\n",
        "    print(\"\\nConfusion Matrix:\")\n",
        "    print(conf_matrix)\n",
        "    print(\"Mean Squared Error (MSE):\", mse)\n",
        "    print(\"Rsquared (R²):\", r2)\n",
        "\n",
        "    return {\n",
        "        'accuracy': accuracy,\n",
        "        'confusion_matrix': conf_matrix,\n",
        "        'Mean Squared Error (MSE)': mse,\n",
        "        'Rsquared (R²)': r2\n",
        "    }\n",
        "\n",
        "def visualize_results(model, X_test, y_test):\n",
        "\n",
        "    plt.figure(figsize=(8, 8))\n",
        "    conf_matrix = confusion_matrix(y_test, model.predict(X_test))\n",
        "    sns.heatmap(conf_matrix, annot=True, fmt='d', cmap='Blues')\n",
        "    plt.title('Confusion Matrix')\n",
        "    plt.xlabel('Predicted Label')\n",
        "    plt.ylabel('True Label')\n",
        "    plt.tight_layout()\n",
        "    plt.show()"
      ]
    },
    {
      "cell_type": "code",
      "execution_count": null,
      "id": "475e2f41-e93c-4574-9223-a11bdb03916e",
      "metadata": {
        "colab": {
          "base_uri": "https://localhost:8080/"
        },
        "id": "475e2f41-e93c-4574-9223-a11bdb03916e",
        "outputId": "edb87404-b736-42a1-d5d9-90d71361eff4"
      },
      "outputs": [
        {
          "output_type": "stream",
          "name": "stdout",
          "text": [
            "Data loaded from file Successfully.\n",
            "Shape of the data: (15064, 9)\n",
            "Columns: ['Cycle_Index', 'Discharge Time (s)', 'Decrement 3.6-3.4V (s)', 'Max. Voltage Dischar. (V)', 'Min. Voltage Charg. (V)', 'Time at 4.15V (s)', 'Time constant current (s)', 'Charging time (s)', 'RUL']\n",
            "<class 'pandas.core.frame.DataFrame'>\n",
            "RangeIndex: 15064 entries, 0 to 15063\n",
            "Data columns (total 9 columns):\n",
            " #   Column                     Non-Null Count  Dtype  \n",
            "---  ------                     --------------  -----  \n",
            " 0   Cycle_Index                15064 non-null  float64\n",
            " 1   Discharge Time (s)         15064 non-null  float64\n",
            " 2   Decrement 3.6-3.4V (s)     15064 non-null  float64\n",
            " 3   Max. Voltage Dischar. (V)  15064 non-null  float64\n",
            " 4   Min. Voltage Charg. (V)    15064 non-null  float64\n",
            " 5   Time at 4.15V (s)          15064 non-null  float64\n",
            " 6   Time constant current (s)  15064 non-null  float64\n",
            " 7   Charging time (s)          15064 non-null  float64\n",
            " 8   RUL                        15064 non-null  int64  \n",
            "dtypes: float64(8), int64(1)\n",
            "memory usage: 1.0 MB\n",
            "Data Information:\n",
            " None\n",
            "MissingValues:\n",
            " Cycle_Index                  0\n",
            "Max. Voltage Dischar. (V)    0\n",
            "Min. Voltage Charg. (V)      0\n",
            "Charging time (s)            0\n",
            "RUL                          0\n",
            "dtype: int64\n",
            "Statistics Information from File:\n",
            "         Cycle_Index  Max. Voltage Dischar. (V)  Min. Voltage Charg. (V)  \\\n",
            "count  15064.000000               15064.000000             15064.000000   \n",
            "mean     556.155005                   3.908176                 3.577904   \n",
            "std      322.378480                   0.091003                 0.123695   \n",
            "min        1.000000                   3.043000                 3.022000   \n",
            "25%      271.000000                   3.846000                 3.488000   \n",
            "50%      560.000000                   3.906000                 3.574000   \n",
            "75%      833.000000                   3.972000                 3.663000   \n",
            "max     1134.000000                   4.363000                 4.379000   \n",
            "\n",
            "       Charging time (s)           RUL  \n",
            "count       15064.000000  15064.000000  \n",
            "mean        10066.496204    554.194172  \n",
            "std         26415.354121    322.434514  \n",
            "min             5.980000      0.000000  \n",
            "25%          7841.922500    277.000000  \n",
            "50%          8320.415000    551.000000  \n",
            "75%          8763.282500    839.000000  \n",
            "max        880728.100000   1133.000000  \n",
            "Training Set of Data:\n",
            " (12051, 4)\n",
            "Test Set of Data:\n",
            " (3013, 4)\n",
            "\n",
            "Model Evaluation:\n",
            "Accuracy: 0.0110\n",
            "\n",
            "Confusion Matrix:\n",
            "[[5 0 0 ... 0 0 0]\n",
            " [0 0 0 ... 0 0 0]\n",
            " [0 0 0 ... 0 0 0]\n",
            " ...\n",
            " [0 0 0 ... 0 0 0]\n",
            " [0 0 0 ... 0 0 0]\n",
            " [0 0 0 ... 0 0 0]]\n",
            "Mean Squared Error (MSE): 4166.538997676734\n",
            "Rsquared (R²): 0.9597768555923384\n"
          ]
        }
      ],
      "source": [
        "# main method to use above functions such as\n",
        "#- process the data, train, test and split the data , apply Machine learning model , evaluate using metrics\n",
        "# finally visualize the results\n",
        "def main(filepath):\n",
        "    X, y,corr = loaddata(filepath)\n",
        "    if X is None or y is None:\n",
        "        print(f\"check the file path: Failed to access or load the data.\")\n",
        "        return\n",
        "    X_scaled, y = processfeaturetargetdata(X, y)\n",
        "    X_train, X_test, y_train, y_test = splitdata(X_scaled, y)\n",
        "    model = trainmodelML(X_train, y_train, 'knn')\n",
        "    evaluate_model(model, X_test, y_test)\n",
        "\n",
        "    plt.figure(figsize=(8, 6))\n",
        "    correlation = corr\n",
        "    sns.heatmap(correlation, annot=True, cmap=\"coolwarm\", fmt=\".2f\")\n",
        "    plt.title('Correlation Heatmap', fontsize=16)\n",
        "    visualize_results(model, X_test, y_test)\n",
        "    plt.xlabel('Predicted Label')\n",
        "    plt.ylabel('True Label')\n",
        "    plt.tight_layout()\n",
        "    plt.show()\n",
        "\n",
        "\n",
        "if __name__ == '__main__':\n",
        "    main(\"sample_data/Battery_RUL.csv\")"
      ]
    },
    {
      "cell_type": "code",
      "execution_count": null,
      "id": "a06174a7-af19-43af-98d7-738453fd21ec",
      "metadata": {
        "id": "a06174a7-af19-43af-98d7-738453fd21ec"
      },
      "outputs": [],
      "source": []
    }
  ],
  "metadata": {
    "kernelspec": {
      "display_name": "Python 3 (ipykernel)",
      "language": "python",
      "name": "python3"
    },
    "language_info": {
      "codemirror_mode": {
        "name": "ipython",
        "version": 3
      },
      "file_extension": ".py",
      "mimetype": "text/x-python",
      "name": "python",
      "nbconvert_exporter": "python",
      "pygments_lexer": "ipython3",
      "version": "3.12.4"
    },
    "colab": {
      "provenance": []
    }
  },
  "nbformat": 4,
  "nbformat_minor": 5
}